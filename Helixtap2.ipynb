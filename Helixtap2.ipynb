{
 "cells": [
  {
   "cell_type": "code",
   "execution_count": 1,
   "metadata": {},
   "outputs": [],
   "source": [
    "import bs4\n",
    "import requests\n",
    "from bs4 import BeautifulSoup\n",
    "from selenium import webdriver\n",
    "import pandas as pd\n"
   ]
  },
  {
   "cell_type": "code",
   "execution_count": 16,
   "metadata": {},
   "outputs": [],
   "source": [
    "url = \"https://seekingalpha.com/symbol/BDIY:IND/historical-price-quotes#\""
   ]
  },
  {
   "cell_type": "code",
   "execution_count": 17,
   "metadata": {},
   "outputs": [],
   "source": [
    "driver = webdriver.Chrome()\n",
    "driver.get(url)\n",
    "\n",
    "html = driver.page_source\n",
    "soup = BeautifulSoup(html)"
   ]
  },
  {
   "cell_type": "code",
   "execution_count": 67,
   "metadata": {},
   "outputs": [],
   "source": [
    "#print(soup.prettify())"
   ]
  },
  {
   "cell_type": "code",
   "execution_count": 51,
   "metadata": {},
   "outputs": [],
   "source": [
    "title = soup.title.string"
   ]
  },
  {
   "cell_type": "code",
   "execution_count": 61,
   "metadata": {},
   "outputs": [],
   "source": [
    "title = title[0:title.index(\"(\") - 1]"
   ]
  },
  {
   "cell_type": "code",
   "execution_count": 62,
   "metadata": {},
   "outputs": [],
   "source": [
    "title = title+\".xlsx\""
   ]
  },
  {
   "cell_type": "code",
   "execution_count": 63,
   "metadata": {},
   "outputs": [
    {
     "data": {
      "text/plain": [
       "'Baltic Dry Futures.xlsx'"
      ]
     },
     "execution_count": 63,
     "metadata": {},
     "output_type": "execute_result"
    }
   ],
   "source": [
    "title"
   ]
  },
  {
   "cell_type": "code",
   "execution_count": 64,
   "metadata": {},
   "outputs": [],
   "source": [
    "df = pd.read_html(html)[0]"
   ]
  },
  {
   "cell_type": "code",
   "execution_count": 65,
   "metadata": {},
   "outputs": [
    {
     "data": {
      "text/html": [
       "<div>\n",
       "<style scoped>\n",
       "    .dataframe tbody tr th:only-of-type {\n",
       "        vertical-align: middle;\n",
       "    }\n",
       "\n",
       "    .dataframe tbody tr th {\n",
       "        vertical-align: top;\n",
       "    }\n",
       "\n",
       "    .dataframe thead th {\n",
       "        text-align: right;\n",
       "    }\n",
       "</style>\n",
       "<table border=\"1\" class=\"dataframe\">\n",
       "  <thead>\n",
       "    <tr style=\"text-align: right;\">\n",
       "      <th></th>\n",
       "      <th>Date</th>\n",
       "      <th>Open</th>\n",
       "      <th>High</th>\n",
       "      <th>Low</th>\n",
       "      <th>Close</th>\n",
       "      <th>Change %</th>\n",
       "    </tr>\n",
       "  </thead>\n",
       "  <tbody>\n",
       "    <tr>\n",
       "      <th>0</th>\n",
       "      <td>Sep 10, 2021</td>\n",
       "      <td>$3,864.00</td>\n",
       "      <td>$3,864.00</td>\n",
       "      <td>$3,864.00</td>\n",
       "      <td>$3,864.00</td>\n",
       "      <td>6.07 %</td>\n",
       "    </tr>\n",
       "    <tr>\n",
       "      <th>1</th>\n",
       "      <td>Sep 09, 2021</td>\n",
       "      <td>$3,643.00</td>\n",
       "      <td>$3,643.00</td>\n",
       "      <td>$3,643.00</td>\n",
       "      <td>$3,643.00</td>\n",
       "      <td>0.69 %</td>\n",
       "    </tr>\n",
       "    <tr>\n",
       "      <th>2</th>\n",
       "      <td>Sep 08, 2021</td>\n",
       "      <td>$3,618.00</td>\n",
       "      <td>$3,618.00</td>\n",
       "      <td>$3,618.00</td>\n",
       "      <td>$3,618.00</td>\n",
       "      <td>-2.40 %</td>\n",
       "    </tr>\n",
       "    <tr>\n",
       "      <th>3</th>\n",
       "      <td>Sep 07, 2021</td>\n",
       "      <td>$3,707.00</td>\n",
       "      <td>$3,707.00</td>\n",
       "      <td>$3,707.00</td>\n",
       "      <td>$3,707.00</td>\n",
       "      <td>-3.01 %</td>\n",
       "    </tr>\n",
       "    <tr>\n",
       "      <th>4</th>\n",
       "      <td>Sep 06, 2021</td>\n",
       "      <td>$3,822.00</td>\n",
       "      <td>$3,822.00</td>\n",
       "      <td>$3,822.00</td>\n",
       "      <td>$3,822.00</td>\n",
       "      <td>-3.09 %</td>\n",
       "    </tr>\n",
       "    <tr>\n",
       "      <th>...</th>\n",
       "      <td>...</td>\n",
       "      <td>...</td>\n",
       "      <td>...</td>\n",
       "      <td>...</td>\n",
       "      <td>...</td>\n",
       "      <td>...</td>\n",
       "    </tr>\n",
       "    <tr>\n",
       "      <th>245</th>\n",
       "      <td>Sep 18, 2020</td>\n",
       "      <td>$1,296.00</td>\n",
       "      <td>$1,296.00</td>\n",
       "      <td>$1,296.00</td>\n",
       "      <td>$1,296.00</td>\n",
       "      <td>0.15 %</td>\n",
       "    </tr>\n",
       "    <tr>\n",
       "      <th>246</th>\n",
       "      <td>Sep 17, 2020</td>\n",
       "      <td>$1,294.00</td>\n",
       "      <td>$1,294.00</td>\n",
       "      <td>$1,294.00</td>\n",
       "      <td>$1,294.00</td>\n",
       "      <td>1.01 %</td>\n",
       "    </tr>\n",
       "    <tr>\n",
       "      <th>247</th>\n",
       "      <td>Sep 16, 2020</td>\n",
       "      <td>$1,281.00</td>\n",
       "      <td>$1,281.00</td>\n",
       "      <td>$1,281.00</td>\n",
       "      <td>$1,281.00</td>\n",
       "      <td>-0.62 %</td>\n",
       "    </tr>\n",
       "    <tr>\n",
       "      <th>248</th>\n",
       "      <td>Sep 15, 2020</td>\n",
       "      <td>$1,289.00</td>\n",
       "      <td>$1,289.00</td>\n",
       "      <td>$1,289.00</td>\n",
       "      <td>$1,289.00</td>\n",
       "      <td>0.55 %</td>\n",
       "    </tr>\n",
       "    <tr>\n",
       "      <th>249</th>\n",
       "      <td>Sep 14, 2020</td>\n",
       "      <td>$1,282.00</td>\n",
       "      <td>$1,282.00</td>\n",
       "      <td>$1,282.00</td>\n",
       "      <td>$1,282.00</td>\n",
       "      <td>NaN</td>\n",
       "    </tr>\n",
       "  </tbody>\n",
       "</table>\n",
       "<p>250 rows × 6 columns</p>\n",
       "</div>"
      ],
      "text/plain": [
       "             Date       Open       High        Low      Close Change %\n",
       "0    Sep 10, 2021  $3,864.00  $3,864.00  $3,864.00  $3,864.00   6.07 %\n",
       "1    Sep 09, 2021  $3,643.00  $3,643.00  $3,643.00  $3,643.00   0.69 %\n",
       "2    Sep 08, 2021  $3,618.00  $3,618.00  $3,618.00  $3,618.00  -2.40 %\n",
       "3    Sep 07, 2021  $3,707.00  $3,707.00  $3,707.00  $3,707.00  -3.01 %\n",
       "4    Sep 06, 2021  $3,822.00  $3,822.00  $3,822.00  $3,822.00  -3.09 %\n",
       "..            ...        ...        ...        ...        ...      ...\n",
       "245  Sep 18, 2020  $1,296.00  $1,296.00  $1,296.00  $1,296.00   0.15 %\n",
       "246  Sep 17, 2020  $1,294.00  $1,294.00  $1,294.00  $1,294.00   1.01 %\n",
       "247  Sep 16, 2020  $1,281.00  $1,281.00  $1,281.00  $1,281.00  -0.62 %\n",
       "248  Sep 15, 2020  $1,289.00  $1,289.00  $1,289.00  $1,289.00   0.55 %\n",
       "249  Sep 14, 2020  $1,282.00  $1,282.00  $1,282.00  $1,282.00      NaN\n",
       "\n",
       "[250 rows x 6 columns]"
      ]
     },
     "execution_count": 65,
     "metadata": {},
     "output_type": "execute_result"
    }
   ],
   "source": [
    "df"
   ]
  },
  {
   "cell_type": "code",
   "execution_count": 66,
   "metadata": {},
   "outputs": [],
   "source": [
    "df.to_excel(title)"
   ]
  },
  {
   "cell_type": "code",
   "execution_count": 23,
   "metadata": {},
   "outputs": [],
   "source": [
    "driver.quit()"
   ]
  }
 ],
 "metadata": {
  "kernelspec": {
   "display_name": "Python 3",
   "language": "python",
   "name": "python3"
  },
  "language_info": {
   "codemirror_mode": {
    "name": "ipython",
    "version": 3
   },
   "file_extension": ".py",
   "mimetype": "text/x-python",
   "name": "python",
   "nbconvert_exporter": "python",
   "pygments_lexer": "ipython3",
   "version": "3.8.3"
  }
 },
 "nbformat": 4,
 "nbformat_minor": 4
}
